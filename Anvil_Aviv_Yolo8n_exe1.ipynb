{
  "cells": [
    {
      "cell_type": "markdown",
      "metadata": {
        "id": "view-in-github",
        "colab_type": "text"
      },
      "source": [
        "<a href=\"https://colab.research.google.com/github/aviv-asulin/DeepLearning/blob/main/Anvil_Aviv_Yolo8n_exe1.ipynb\" target=\"_parent\"><img src=\"https://colab.research.google.com/assets/colab-badge.svg\" alt=\"Open In Colab\"/></a>"
      ]
    },
    {
      "cell_type": "code",
      "execution_count": null,
      "metadata": {
        "collapsed": true,
        "id": "Eda-5xK4WijL"
      },
      "outputs": [],
      "source": [
        "!pip install ultralytics opencv-python matplotlib"
      ]
    },
    {
      "cell_type": "code",
      "execution_count": null,
      "metadata": {
        "id": "GOcXes1KctD3",
        "collapsed": true
      },
      "outputs": [],
      "source": [
        "!pip install anvil-uplink"
      ]
    },
    {
      "cell_type": "code",
      "execution_count": 7,
      "metadata": {
        "id": "N1b2XtpFdLVj"
      },
      "outputs": [],
      "source": [
        "import anvil.server\n",
        "import anvil.media\n",
        "\n",
        "input_size = (200,200)\n",
        "input_shape = (200,200,3)\n"
      ]
    },
    {
      "cell_type": "code",
      "execution_count": null,
      "metadata": {
        "id": "OH4vrewMWuB8"
      },
      "outputs": [],
      "source": [
        "import cv2\n",
        "import numpy as np\n",
        "import matplotlib.pyplot as plt\n",
        "from ultralytics import YOLO\n",
        "import tensorflow as tf\n",
        "import tensorflow_hub as hub\n",
        "import numpy as np\n",
        "\n",
        "# Load the pre-trained YOLO model from\n",
        "# Load YOLOv8n model from Ultralytics\n",
        "model = YOLO('yolov8n.pt')"
      ]
    },
    {
      "cell_type": "code",
      "execution_count": 9,
      "metadata": {
        "id": "dM5AuBpxePRu"
      },
      "outputs": [],
      "source": [
        "@anvil.server.callable\n",
        "def classify_image(file):\n",
        "  with anvil.media.TempFile(file) as filename:\n",
        "    img = tf.keras.utils.load_img(filename)\n",
        "\n",
        "  results = model(img) #ultralitics Yolo model\n",
        "\n",
        "  #use matplotlib for manipulation the image\n",
        "  fig, ax = plt.subplots(nrows = 1, ncols = 1, figsize=(2, 2))\n",
        "  ax.axis('off')\n",
        "  fig.tight_layout(pad=0)\n",
        "  ax.margins(0)\n",
        "\n",
        "  annotated_img = results[0].plot()\n",
        "  iannotated_img = cv2.cvtColor(annotated_img, cv2.COLOR_BGR2RGB)\n",
        "  ax.imshow(annotated_img)\n",
        "\n",
        "  plt.savefig('annotated_img.png')\n",
        "\n",
        "  class_indices = results[0].boxes.cls\n",
        "  class_names = [results[0].names[int(idx)] for idx in class_indices]\n",
        "  image = anvil.media.from_file('annotated_img.png')\n",
        "\n",
        "  return image, class_names\n"
      ]
    },
    {
      "cell_type": "code",
      "source": [
        "anvil.server.connect(\"server_NH2BPTLZNLFYLOWEVCIFSFAD-RBGQYBGLASGGJJNB\")"
      ],
      "metadata": {
        "id": "vMroqF0aHdbK"
      },
      "execution_count": null,
      "outputs": []
    },
    {
      "cell_type": "code",
      "source": [
        "anvil.server.wait_forever()"
      ],
      "metadata": {
        "collapsed": true,
        "id": "nviOEnYDHwtR"
      },
      "execution_count": null,
      "outputs": []
    }
  ],
  "metadata": {
    "colab": {
      "provenance": [],
      "mount_file_id": "1AsJBqZ2SkpqqtHwcEF3gKVQP1d9F0gP-",
      "authorship_tag": "ABX9TyMFjarIr0V015JlaBwW7aXi",
      "include_colab_link": true
    },
    "kernelspec": {
      "display_name": "Python 3",
      "name": "python3"
    },
    "language_info": {
      "name": "python"
    }
  },
  "nbformat": 4,
  "nbformat_minor": 0
}